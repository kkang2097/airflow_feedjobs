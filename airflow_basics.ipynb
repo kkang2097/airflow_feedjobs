{
 "cells": [
  {
   "cell_type": "markdown",
   "id": "979095ce",
   "metadata": {},
   "source": [
    "# Airflow Basics"
   ]
  },
  {
   "cell_type": "markdown",
   "id": "cb743751",
   "metadata": {},
   "source": [
    "#### Goal: Have a basic skeleton to run jobs\n",
    "- we also need to be able to run asynchronous code in python there\n",
    "\n",
    "### Outline (Iterate as we go)\n",
    "- DAGs\n",
    "- A first attempt at a DAG\n",
    "- DAGs with HTTP requests\n",
    "- DAGs with asynchronous code"
   ]
  },
  {
   "cell_type": "code",
   "execution_count": null,
   "id": "999746c8",
   "metadata": {},
   "outputs": [],
   "source": []
  }
 ],
 "metadata": {
  "kernelspec": {
   "display_name": "Python 3 (ipykernel)",
   "language": "python",
   "name": "python3"
  },
  "language_info": {
   "codemirror_mode": {
    "name": "ipython",
    "version": 3
   },
   "file_extension": ".py",
   "mimetype": "text/x-python",
   "name": "python",
   "nbconvert_exporter": "python",
   "pygments_lexer": "ipython3",
   "version": "3.10.9"
  }
 },
 "nbformat": 4,
 "nbformat_minor": 5
}
